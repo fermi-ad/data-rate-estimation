{
 "cells": [
  {
   "cell_type": "markdown",
   "metadata": {},
   "source": [
    "# Date Rate Estimation for Perpetual Storage of Accelerator Data\n",
    "\n",
    "There is high value for MCR Operators and machine experts alike in having the highest reasonable data rates available at all times.\n",
    "\n",
    "## Process\n",
    "\n",
    "The current count of device properties and the average data size can be replicated using the code at [https://github.com/fermi-controls/device-property-sizes.git](https://github.com/fermi-controls/device-property-sizes.git)."
   ]
  },
  {
   "cell_type": "code",
   "execution_count": 1,
   "metadata": {},
   "outputs": [],
   "source": [
    "existing_device_property_count = 284_181\n",
    "sum_of_existing_property_sizes = 2_529_327  # in bytes\n",
    "pip2lbnf_device_property_count_guess = 62_500\n",
    "average_property_size = 8  # in bytes\n",
    "timestamp_size = 8  # in bytes\n",
    "assumed_daq_rate = 1_000  # in hertz\n",
    "seconds_in_a_year = 31_536_000"
   ]
  },
  {
   "cell_type": "code",
   "execution_count": 2,
   "metadata": {},
   "outputs": [],
   "source": [
    "timestamp_size_each_second = timestamp_size * existing_device_property_count * assumed_daq_rate\n",
    "data_size_each_second = sum_of_existing_property_sizes * assumed_daq_rate\n",
    "total_size_each_second = timestamp_size_each_second + data_size_each_second\n",
    "total_size_each_year = total_size_each_second * seconds_in_a_year\n",
    "total_size_each_operational_year = total_size_each_year * (2/3)  # an operational year is 9 months"
   ]
  },
  {
   "cell_type": "code",
   "execution_count": 3,
   "metadata": {},
   "outputs": [
    {
     "name": "stdout",
     "output_type": "stream",
     "text": [
      "total_size_each_second: 4,802,775,000 B\n",
      "total_size_each_year: 151,460,312,400,000,000 B\n",
      "total_size_each_operational_year: 1.009735416e+17 B\n"
     ]
    }
   ],
   "source": [
    "print(f'total_size_each_second: {total_size_each_second:,} B')\n",
    "print(f'total_size_each_year: {total_size_each_year:,} B')\n",
    "print(f'total_size_each_operational_year: {total_size_each_operational_year:,} B')"
   ]
  },
  {
   "cell_type": "code",
   "execution_count": 4,
   "metadata": {},
   "outputs": [],
   "source": [
    "total_property_count = existing_device_property_count + pip2lbnf_device_property_count_guess\n",
    "timestamp_size_each_second = timestamp_size * total_property_count * assumed_daq_rate\n",
    "data_size_each_second = average_property_size * total_property_count * assumed_daq_rate\n",
    "total_size_each_second = timestamp_size_each_second + data_size_each_second\n",
    "total_size_each_year = total_size_each_second * seconds_in_a_year\n",
    "total_size_each_operational_year = total_size_each_year * (2/3)  # an operational year is 9 months"
   ]
  },
  {
   "cell_type": "code",
   "execution_count": 5,
   "metadata": {},
   "outputs": [
    {
     "name": "stdout",
     "output_type": "stream",
     "text": [
      "total_size_each_second: 5,546,896,000 B\n",
      "total_size_each_year: 174,926,912,256,000,000 B\n",
      "total_size_each_operational_year: 1.16617941504e+17 B\n"
     ]
    }
   ],
   "source": [
    "print(f'total_size_each_second: {total_size_each_second:,} B')\n",
    "print(f'total_size_each_year: {total_size_each_year:,} B')\n",
    "print(f'total_size_each_operational_year: {total_size_each_operational_year:,} B')"
   ]
  },
  {
   "cell_type": "markdown",
   "metadata": {},
   "source": [
    "## Conclusions\n",
    "\n",
    "There are two parameters that we should be concerned about. The ingest rate and total storage.\n",
    "\n",
    "Is it possible to write the data to disk at the rate that we generate it?\n",
    "\n",
    "> At 96MBps or 768Mbps, the rate is within the realm of reason.\n",
    "\n",
    "Is is possible to store all the data all the time?\n",
    "\n",
    "> At 2PB per year, the storage size not completely unreasonable, but I'd guess we are pushing the boundaries of affordability.\n",
    "\n",
    "> Including PIP2 and LNBF estimates increase the rate and storage by approximately 13%."
   ]
  }
 ],
 "metadata": {
  "kernelspec": {
   "display_name": "Python 3.10.2 64-bit ('3.10.2')",
   "language": "python",
   "name": "python3"
  },
  "language_info": {
   "codemirror_mode": {
    "name": "ipython",
    "version": 3
   },
   "file_extension": ".py",
   "mimetype": "text/x-python",
   "name": "python",
   "nbconvert_exporter": "python",
   "pygments_lexer": "ipython3",
   "version": "3.9.6"
  },
  "orig_nbformat": 4,
  "vscode": {
   "interpreter": {
    "hash": "5afc59397f1b1d01aa7fd523159a7c2be41e9807c26918180a09b615ae7c58a4"
   }
  }
 },
 "nbformat": 4,
 "nbformat_minor": 2
}
